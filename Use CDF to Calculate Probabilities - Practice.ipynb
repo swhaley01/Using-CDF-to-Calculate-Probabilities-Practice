{
 "cells": [
  {
   "cell_type": "markdown",
   "id": "fdfab8a7",
   "metadata": {},
   "source": [
    "# Use CDF to Calculate Probabilities (Practice)"
   ]
  },
  {
   "cell_type": "markdown",
   "id": "d579b15e",
   "metadata": {},
   "source": [
    "We will use the human height data set:\n",
    "\n",
    "Use the normal cumulative distribution function with the mean and standard deviation of female height to calculate the probability that a female's height is:\n",
    "\n",
    "1. between 55.0 and 56.0 inches\n",
    "\n",
    "2. is less than 5 feet (60 in)\n",
    "\n",
    "3. is greater than the mean (hint: do you know this answer intuitively?)"
   ]
  },
  {
   "cell_type": "code",
   "execution_count": 2,
   "id": "f6ae19a9",
   "metadata": {},
   "outputs": [],
   "source": [
    "import pandas as pd\n",
    "import numpy as np\n",
    "import matplotlib.pyplot as plt\n",
    "import seaborn as sns\n",
    "import scipy.stats as stats"
   ]
  },
  {
   "cell_type": "code",
   "execution_count": 3,
   "id": "774c89ac",
   "metadata": {},
   "outputs": [
    {
     "data": {
      "text/html": [
       "<div>\n",
       "<style scoped>\n",
       "    .dataframe tbody tr th:only-of-type {\n",
       "        vertical-align: middle;\n",
       "    }\n",
       "\n",
       "    .dataframe tbody tr th {\n",
       "        vertical-align: top;\n",
       "    }\n",
       "\n",
       "    .dataframe thead th {\n",
       "        text-align: right;\n",
       "    }\n",
       "</style>\n",
       "<table border=\"1\" class=\"dataframe\">\n",
       "  <thead>\n",
       "    <tr style=\"text-align: right;\">\n",
       "      <th></th>\n",
       "      <th>Gender</th>\n",
       "      <th>Height</th>\n",
       "      <th>Weight</th>\n",
       "    </tr>\n",
       "  </thead>\n",
       "  <tbody>\n",
       "    <tr>\n",
       "      <th>0</th>\n",
       "      <td>Male</td>\n",
       "      <td>73.847017</td>\n",
       "      <td>241.893563</td>\n",
       "    </tr>\n",
       "    <tr>\n",
       "      <th>1</th>\n",
       "      <td>Male</td>\n",
       "      <td>68.781904</td>\n",
       "      <td>162.310473</td>\n",
       "    </tr>\n",
       "    <tr>\n",
       "      <th>2</th>\n",
       "      <td>Male</td>\n",
       "      <td>74.110105</td>\n",
       "      <td>212.740856</td>\n",
       "    </tr>\n",
       "    <tr>\n",
       "      <th>3</th>\n",
       "      <td>Male</td>\n",
       "      <td>71.730978</td>\n",
       "      <td>220.042470</td>\n",
       "    </tr>\n",
       "    <tr>\n",
       "      <th>4</th>\n",
       "      <td>Male</td>\n",
       "      <td>69.881796</td>\n",
       "      <td>206.349801</td>\n",
       "    </tr>\n",
       "  </tbody>\n",
       "</table>\n",
       "</div>"
      ],
      "text/plain": [
       "  Gender     Height      Weight\n",
       "0   Male  73.847017  241.893563\n",
       "1   Male  68.781904  162.310473\n",
       "2   Male  74.110105  212.740856\n",
       "3   Male  71.730978  220.042470\n",
       "4   Male  69.881796  206.349801"
      ]
     },
     "execution_count": 3,
     "metadata": {},
     "output_type": "execute_result"
    }
   ],
   "source": [
    "df = pd.read_csv('https://docs.google.com/spreadsheets/d/e/2PACX-1vRxp-hsw61ck9cpt5ExZIUhvSGT5zYzoUJl_7xr7YF5qZeazC8393q2taqwkDvMxVirgFDJm1WX3uAC/pub?output=csv')\n",
    "df.head()"
   ]
  },
  {
   "cell_type": "code",
   "execution_count": 4,
   "id": "22328c5d",
   "metadata": {},
   "outputs": [],
   "source": [
    "males = df.loc[ df['Gender'] == 'Male'].copy()\n",
    "females = df.loc[ df['Gender'] == 'Female'].copy()"
   ]
  },
  {
   "cell_type": "code",
   "execution_count": 7,
   "id": "1350e799",
   "metadata": {},
   "outputs": [],
   "source": [
    "data = females['Height']"
   ]
  },
  {
   "cell_type": "code",
   "execution_count": 8,
   "id": "6e45b910",
   "metadata": {},
   "outputs": [],
   "source": [
    "low_end = 55.0\n",
    "high_end = 56.0"
   ]
  },
  {
   "cell_type": "code",
   "execution_count": 9,
   "id": "d7d85a08",
   "metadata": {},
   "outputs": [],
   "source": [
    "mean = np.mean(data)\n",
    "std = np.std(data)\n",
    "min = np.min(data)\n",
    "max = np.max(data)\n",
    "x_range = np.linspace(min, max,1000)"
   ]
  },
  {
   "cell_type": "code",
   "execution_count": 10,
   "id": "efbbf953",
   "metadata": {},
   "outputs": [],
   "source": [
    "pdf = stats.norm.pdf(x_range, loc=mean, scale=std)"
   ]
  },
  {
   "cell_type": "code",
   "execution_count": 11,
   "id": "dae4ff07",
   "metadata": {},
   "outputs": [],
   "source": [
    "cdf = stats.norm.cdf(x_range, loc=mean, scale=std)"
   ]
  },
  {
   "cell_type": "code",
   "execution_count": 12,
   "id": "6cf0e7ff",
   "metadata": {},
   "outputs": [
    {
     "data": {
      "image/png": "[encoded data removed]",
      "text/plain": [
       "<Figure size 864x432 with 1 Axes>"
      ]
     },
     "metadata": {
      "needs_background": "light"
     },
     "output_type": "display_data"
    }
   ],
   "source": [
    "fig, ax = plt.subplots(figsize=(12,6))\n",
    "sns.histplot(x=data, stat='density', cumulative = True)\n",
    "ax.plot(x_range,cdf)\n",
    "ax.axvline(low_end, color= 'black')\n",
    "ax.axvline(high_end, color ='black')\n",
    "ax.axvspan(low_end, high_end, color ='yellow', zorder = 0)\n",
    "ax.set_title('Range of Interest');"
   ]
  },
  {
   "cell_type": "code",
   "execution_count": 13,
   "id": "72e39ff0",
   "metadata": {},
   "outputs": [
    {
     "data": {
      "text/plain": [
       "0.0015043054289559745"
      ]
     },
     "execution_count": 13,
     "metadata": {},
     "output_type": "execute_result"
    }
   ],
   "source": [
    "stats.norm.cdf(high_end, loc=mean, scale=std) - stats.norm.cdf(low_end, loc=mean, scale=std)"
   ]
  },
  {
   "cell_type": "code",
   "execution_count": 14,
   "id": "66df072b",
   "metadata": {},
   "outputs": [
    {
     "data": {
      "text/plain": [
       "0.0844649272520746"
      ]
     },
     "execution_count": 14,
     "metadata": {},
     "output_type": "execute_result"
    }
   ],
   "source": [
    "stats.norm.cdf(60, loc=mean, scale=std)"
   ]
  },
  {
   "cell_type": "code",
   "execution_count": 15,
   "id": "949b8404",
   "metadata": {},
   "outputs": [
    {
     "data": {
      "text/plain": [
       "0.5"
      ]
     },
     "execution_count": 15,
     "metadata": {},
     "output_type": "execute_result"
    }
   ],
   "source": [
    "1 -stats.norm.cdf(mean, loc=mean,scale=std)"
   ]
  },
  {
   "cell_type": "markdown",
   "id": "7e289193",
   "metadata": {},
   "source": [
    "- The probability that a female's height is greater than the mean is 50%"
   ]
  },
  {
   "cell_type": "code",
   "execution_count": null,
   "id": "2b1f8174",
   "metadata": {},
   "outputs": [],
   "source": []
  }
 ],
 "metadata": {
  "kernelspec": {
   "display_name": "Python (dojo-env)",
   "language": "python",
   "name": "dojo-env"
  },
  "language_info": {
   "codemirror_mode": {
    "name": "ipython",
    "version": 3
   },
   "file_extension": ".py",
   "mimetype": "text/x-python",
   "name": "python",
   "nbconvert_exporter": "python",
   "pygments_lexer": "ipython3",
   "version": "3.8.13"
  },
  "toc": {
   "base_numbering": 1,
   "nav_menu": {},
   "number_sections": true,
   "sideBar": true,
   "skip_h1_title": false,
   "title_cell": "Table of Contents",
   "title_sidebar": "Contents",
   "toc_cell": false,
   "toc_position": {},
   "toc_section_display": true,
   "toc_window_display": false
  }
 },
 "nbformat": 4,
 "nbformat_minor": 5
}
